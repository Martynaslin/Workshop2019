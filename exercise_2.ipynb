{
 "cells": [
  {
   "cell_type": "markdown",
   "metadata": {},
   "source": [
    "<img src=\"images/oasis-lmf-colour.png\" alt=\"Oasis LMF logo\" width=\"250\" align=\"left\"/>\n",
    "<br><br><br>\n",
    "\n",
    "# Excercise 2:   Running a model in the Oasis MDK.\n",
    "\n",
    "The Oasis kernel provides a robust loss simulation engine for catastrophe modelling. Insurance practitioners are used to dealing with losses arising from events. These losses are numbers, not distributions. Policy terms are applied to the losses individually and then aggregated and further conditions or reinsurances applied. Oasis takes the same perspective, which is to generate individual losses from the probability distributions. The way to achieve this is random sampling called “Monte-Carlo” sampling from the use of random numbers, as if from a roulette wheel, to solve equations that are otherwise intractable.\n",
    "\n",
    "Modelled and empirical intensities and damage responses can show significant uncertainty, Sometimes this uncertainty is multi-modal, meaning that there can be different peaks of behaviour rather than just a single central behaviour. Moreover, the definition of the source insured interest characteristics, such as location or occupancy or construction, can be imprecise. The associated values for event intensities and consequential damages can therefore be varied and their uncertainty can be represented in general as probability distributions rather than point values. The design of Oasis therefore makes no assumptions about the probability distributions and instead treats all probability distributions as probability masses in discrete bins. This includes closed interval point bins such as the values [0,0] for no damage and [1,1] for total damage.\n",
    "\n",
    "The simulation approach taken by the Oasis calculation kernel computes a single cumulative distribution function (CDF) for the damage by “convolving” the binned intensity distribution with the vulnerability matrices. Sampling can then be done against the CDF. \n",
    "\n",
    "<img src=\"images/simulation_methodology.png\" alt=\"Oasis simulation methodology\" width=\"600\"/>\n",
    "\n",
    "The Oasis kernel requires a standard set of files for capturing the hazard footprints and vulnerability data.\n",
    "\n",
    "<img src=\"images/oasis_model_files.png\" alt=\"Oasis model files\" width=\"600\"/>\n",
    "\n",
    "The files are:\n",
    "\n",
    "#### area peril dictionary\n",
    "    The meta-data that describes the model specific geo-spatial grid. This can be a set of points, a regular grid or a variable resolutiuon grid.\n",
    "#### intensity bin dictionary\n",
    "    The meta-data that descibes the hazard intensities corresponding to the bins.\n",
    "#### hazard\n",
    "    The hazard values for each impacted area peril cell for each event in the stochastic catalogue.\n",
    "#### damage bin dictionary\n",
    "    The meta-data tha descibes the damage percentages corresponding to the bins.\n",
    "#### vulnerability dictionary\n",
    "    The meta-data that descibes the vulnerability data, in particular mapping particular curves to particular exposure attributes.\n",
    "#### vulnerability\n",
    "    The vulnerability data. \n",
    "#### event\n",
    "    The list of events in the stochastic catalogue. Event files can be use to distinguish event types, such as historical.\n",
    "#### occurrences\n",
    "    The list of event occurrences in particular periods, used for loss curve calculations.\n",
    "\n",
    "## Example model\n",
    "For the excercises, we are using a cut-down version of the Catrisks' Middle East Earthquake model. We include the full catalogue of events, but only for an area around the city of Beirut. The intensity bins dictionary only includes \"hazard levels\" and not actual PGA values, protecting the Catrisk IP in the example. The intensity levels are not required for loss calculations, which only depend on the event hazard getting linked to the correct damage level. This model contains both hazard and damage uncertainty.\n",
    "\n",
    "\n",
    "## Excercise goals\n",
    "* Understand the Oasis model files\n",
    "* Use Python code to view the model files for an example model\n",
    "* Use Python code to visualise run and view the results of an analysis\n"
   ]
  },
  {
   "cell_type": "code",
   "execution_count": null,
   "metadata": {},
   "outputs": [],
   "source": [
    "%config IPCompleter.greedy=True"
   ]
  },
  {
   "cell_type": "code",
   "execution_count": 3,
   "metadata": {},
   "outputs": [
    {
     "data": {
      "text/html": [
       "\n",
       "    <div class=\"bk-root\">\n",
       "        <a href=\"https://bokeh.pydata.org\" target=\"_blank\" class=\"bk-logo bk-logo-small bk-logo-notebook\"></a>\n",
       "        <span id=\"1001\">Loading BokehJS ...</span>\n",
       "    </div>"
      ]
     },
     "metadata": {},
     "output_type": "display_data"
    },
    {
     "data": {
      "application/javascript": [
       "\n",
       "(function(root) {\n",
       "  function now() {\n",
       "    return new Date();\n",
       "  }\n",
       "\n",
       "  var force = true;\n",
       "\n",
       "  if (typeof root._bokeh_onload_callbacks === \"undefined\" || force === true) {\n",
       "    root._bokeh_onload_callbacks = [];\n",
       "    root._bokeh_is_loading = undefined;\n",
       "  }\n",
       "\n",
       "  var JS_MIME_TYPE = 'application/javascript';\n",
       "  var HTML_MIME_TYPE = 'text/html';\n",
       "  var EXEC_MIME_TYPE = 'application/vnd.bokehjs_exec.v0+json';\n",
       "  var CLASS_NAME = 'output_bokeh rendered_html';\n",
       "\n",
       "  /**\n",
       "   * Render data to the DOM node\n",
       "   */\n",
       "  function render(props, node) {\n",
       "    var script = document.createElement(\"script\");\n",
       "    node.appendChild(script);\n",
       "  }\n",
       "\n",
       "  /**\n",
       "   * Handle when an output is cleared or removed\n",
       "   */\n",
       "  function handleClearOutput(event, handle) {\n",
       "    var cell = handle.cell;\n",
       "\n",
       "    var id = cell.output_area._bokeh_element_id;\n",
       "    var server_id = cell.output_area._bokeh_server_id;\n",
       "    // Clean up Bokeh references\n",
       "    if (id != null && id in Bokeh.index) {\n",
       "      Bokeh.index[id].model.document.clear();\n",
       "      delete Bokeh.index[id];\n",
       "    }\n",
       "\n",
       "    if (server_id !== undefined) {\n",
       "      // Clean up Bokeh references\n",
       "      var cmd = \"from bokeh.io.state import curstate; print(curstate().uuid_to_server['\" + server_id + \"'].get_sessions()[0].document.roots[0]._id)\";\n",
       "      cell.notebook.kernel.execute(cmd, {\n",
       "        iopub: {\n",
       "          output: function(msg) {\n",
       "            var id = msg.content.text.trim();\n",
       "            if (id in Bokeh.index) {\n",
       "              Bokeh.index[id].model.document.clear();\n",
       "              delete Bokeh.index[id];\n",
       "            }\n",
       "          }\n",
       "        }\n",
       "      });\n",
       "      // Destroy server and session\n",
       "      var cmd = \"import bokeh.io.notebook as ion; ion.destroy_server('\" + server_id + \"')\";\n",
       "      cell.notebook.kernel.execute(cmd);\n",
       "    }\n",
       "  }\n",
       "\n",
       "  /**\n",
       "   * Handle when a new output is added\n",
       "   */\n",
       "  function handleAddOutput(event, handle) {\n",
       "    var output_area = handle.output_area;\n",
       "    var output = handle.output;\n",
       "\n",
       "    // limit handleAddOutput to display_data with EXEC_MIME_TYPE content only\n",
       "    if ((output.output_type != \"display_data\") || (!output.data.hasOwnProperty(EXEC_MIME_TYPE))) {\n",
       "      return\n",
       "    }\n",
       "\n",
       "    var toinsert = output_area.element.find(\".\" + CLASS_NAME.split(' ')[0]);\n",
       "\n",
       "    if (output.metadata[EXEC_MIME_TYPE][\"id\"] !== undefined) {\n",
       "      toinsert[toinsert.length - 1].firstChild.textContent = output.data[JS_MIME_TYPE];\n",
       "      // store reference to embed id on output_area\n",
       "      output_area._bokeh_element_id = output.metadata[EXEC_MIME_TYPE][\"id\"];\n",
       "    }\n",
       "    if (output.metadata[EXEC_MIME_TYPE][\"server_id\"] !== undefined) {\n",
       "      var bk_div = document.createElement(\"div\");\n",
       "      bk_div.innerHTML = output.data[HTML_MIME_TYPE];\n",
       "      var script_attrs = bk_div.children[0].attributes;\n",
       "      for (var i = 0; i < script_attrs.length; i++) {\n",
       "        toinsert[toinsert.length - 1].firstChild.setAttribute(script_attrs[i].name, script_attrs[i].value);\n",
       "      }\n",
       "      // store reference to server id on output_area\n",
       "      output_area._bokeh_server_id = output.metadata[EXEC_MIME_TYPE][\"server_id\"];\n",
       "    }\n",
       "  }\n",
       "\n",
       "  function register_renderer(events, OutputArea) {\n",
       "\n",
       "    function append_mime(data, metadata, element) {\n",
       "      // create a DOM node to render to\n",
       "      var toinsert = this.create_output_subarea(\n",
       "        metadata,\n",
       "        CLASS_NAME,\n",
       "        EXEC_MIME_TYPE\n",
       "      );\n",
       "      this.keyboard_manager.register_events(toinsert);\n",
       "      // Render to node\n",
       "      var props = {data: data, metadata: metadata[EXEC_MIME_TYPE]};\n",
       "      render(props, toinsert[toinsert.length - 1]);\n",
       "      element.append(toinsert);\n",
       "      return toinsert\n",
       "    }\n",
       "\n",
       "    /* Handle when an output is cleared or removed */\n",
       "    events.on('clear_output.CodeCell', handleClearOutput);\n",
       "    events.on('delete.Cell', handleClearOutput);\n",
       "\n",
       "    /* Handle when a new output is added */\n",
       "    events.on('output_added.OutputArea', handleAddOutput);\n",
       "\n",
       "    /**\n",
       "     * Register the mime type and append_mime function with output_area\n",
       "     */\n",
       "    OutputArea.prototype.register_mime_type(EXEC_MIME_TYPE, append_mime, {\n",
       "      /* Is output safe? */\n",
       "      safe: true,\n",
       "      /* Index of renderer in `output_area.display_order` */\n",
       "      index: 0\n",
       "    });\n",
       "  }\n",
       "\n",
       "  // register the mime type if in Jupyter Notebook environment and previously unregistered\n",
       "  if (root.Jupyter !== undefined) {\n",
       "    var events = require('base/js/events');\n",
       "    var OutputArea = require('notebook/js/outputarea').OutputArea;\n",
       "\n",
       "    if (OutputArea.prototype.mime_types().indexOf(EXEC_MIME_TYPE) == -1) {\n",
       "      register_renderer(events, OutputArea);\n",
       "    }\n",
       "  }\n",
       "\n",
       "  \n",
       "  if (typeof (root._bokeh_timeout) === \"undefined\" || force === true) {\n",
       "    root._bokeh_timeout = Date.now() + 5000;\n",
       "    root._bokeh_failed_load = false;\n",
       "  }\n",
       "\n",
       "  var NB_LOAD_WARNING = {'data': {'text/html':\n",
       "     \"<div style='background-color: #fdd'>\\n\"+\n",
       "     \"<p>\\n\"+\n",
       "     \"BokehJS does not appear to have successfully loaded. If loading BokehJS from CDN, this \\n\"+\n",
       "     \"may be due to a slow or bad network connection. Possible fixes:\\n\"+\n",
       "     \"</p>\\n\"+\n",
       "     \"<ul>\\n\"+\n",
       "     \"<li>re-rerun `output_notebook()` to attempt to load from CDN again, or</li>\\n\"+\n",
       "     \"<li>use INLINE resources instead, as so:</li>\\n\"+\n",
       "     \"</ul>\\n\"+\n",
       "     \"<code>\\n\"+\n",
       "     \"from bokeh.resources import INLINE\\n\"+\n",
       "     \"output_notebook(resources=INLINE)\\n\"+\n",
       "     \"</code>\\n\"+\n",
       "     \"</div>\"}};\n",
       "\n",
       "  function display_loaded() {\n",
       "    var el = document.getElementById(\"1001\");\n",
       "    if (el != null) {\n",
       "      el.textContent = \"BokehJS is loading...\";\n",
       "    }\n",
       "    if (root.Bokeh !== undefined) {\n",
       "      if (el != null) {\n",
       "        el.textContent = \"BokehJS \" + root.Bokeh.version + \" successfully loaded.\";\n",
       "      }\n",
       "    } else if (Date.now() < root._bokeh_timeout) {\n",
       "      setTimeout(display_loaded, 100)\n",
       "    }\n",
       "  }\n",
       "\n",
       "\n",
       "  function run_callbacks() {\n",
       "    try {\n",
       "      root._bokeh_onload_callbacks.forEach(function(callback) {\n",
       "        if (callback != null)\n",
       "          callback();\n",
       "      });\n",
       "    } finally {\n",
       "      delete root._bokeh_onload_callbacks\n",
       "    }\n",
       "    console.debug(\"Bokeh: all callbacks have finished\");\n",
       "  }\n",
       "\n",
       "  function load_libs(css_urls, js_urls, callback) {\n",
       "    if (css_urls == null) css_urls = [];\n",
       "    if (js_urls == null) js_urls = [];\n",
       "\n",
       "    root._bokeh_onload_callbacks.push(callback);\n",
       "    if (root._bokeh_is_loading > 0) {\n",
       "      console.debug(\"Bokeh: BokehJS is being loaded, scheduling callback at\", now());\n",
       "      return null;\n",
       "    }\n",
       "    if (js_urls == null || js_urls.length === 0) {\n",
       "      run_callbacks();\n",
       "      return null;\n",
       "    }\n",
       "    console.debug(\"Bokeh: BokehJS not loaded, scheduling load and callback at\", now());\n",
       "    root._bokeh_is_loading = css_urls.length + js_urls.length;\n",
       "\n",
       "    function on_load() {\n",
       "      root._bokeh_is_loading--;\n",
       "      if (root._bokeh_is_loading === 0) {\n",
       "        console.debug(\"Bokeh: all BokehJS libraries/stylesheets loaded\");\n",
       "        run_callbacks()\n",
       "      }\n",
       "    }\n",
       "\n",
       "    function on_error() {\n",
       "      console.error(\"failed to load \" + url);\n",
       "    }\n",
       "\n",
       "    for (var i = 0; i < css_urls.length; i++) {\n",
       "      var url = css_urls[i];\n",
       "      const element = document.createElement(\"link\");\n",
       "      element.onload = on_load;\n",
       "      element.onerror = on_error;\n",
       "      element.rel = \"stylesheet\";\n",
       "      element.type = \"text/css\";\n",
       "      element.href = url;\n",
       "      console.debug(\"Bokeh: injecting link tag for BokehJS stylesheet: \", url);\n",
       "      document.body.appendChild(element);\n",
       "    }\n",
       "\n",
       "    for (var i = 0; i < js_urls.length; i++) {\n",
       "      var url = js_urls[i];\n",
       "      var element = document.createElement('script');\n",
       "      element.onload = on_load;\n",
       "      element.onerror = on_error;\n",
       "      element.async = false;\n",
       "      element.src = url;\n",
       "      console.debug(\"Bokeh: injecting script tag for BokehJS library: \", url);\n",
       "      document.head.appendChild(element);\n",
       "    }\n",
       "  };var element = document.getElementById(\"1001\");\n",
       "  if (element == null) {\n",
       "    console.error(\"Bokeh: ERROR: autoload.js configured with elementid '1001' but no matching script tag was found. \")\n",
       "    return false;\n",
       "  }\n",
       "\n",
       "  function inject_raw_css(css) {\n",
       "    const element = document.createElement(\"style\");\n",
       "    element.appendChild(document.createTextNode(css));\n",
       "    document.body.appendChild(element);\n",
       "  }\n",
       "\n",
       "  var js_urls = [\"https://cdn.pydata.org/bokeh/release/bokeh-1.2.0.min.js\", \"https://cdn.pydata.org/bokeh/release/bokeh-widgets-1.2.0.min.js\", \"https://cdn.pydata.org/bokeh/release/bokeh-tables-1.2.0.min.js\", \"https://cdn.pydata.org/bokeh/release/bokeh-gl-1.2.0.min.js\"];\n",
       "  var css_urls = [\"https://cdn.pydata.org/bokeh/release/bokeh-1.2.0.min.css\", \"https://cdn.pydata.org/bokeh/release/bokeh-widgets-1.2.0.min.css\", \"https://cdn.pydata.org/bokeh/release/bokeh-tables-1.2.0.min.css\"];\n",
       "\n",
       "  var inline_js = [\n",
       "    function(Bokeh) {\n",
       "      Bokeh.set_log_level(\"info\");\n",
       "    },\n",
       "    \n",
       "    function(Bokeh) {\n",
       "      \n",
       "    },\n",
       "    function(Bokeh) {} // ensure no trailing comma for IE\n",
       "  ];\n",
       "\n",
       "  function run_inline_js() {\n",
       "    \n",
       "    if ((root.Bokeh !== undefined) || (force === true)) {\n",
       "      for (var i = 0; i < inline_js.length; i++) {\n",
       "        inline_js[i].call(root, root.Bokeh);\n",
       "      }if (force === true) {\n",
       "        display_loaded();\n",
       "      }} else if (Date.now() < root._bokeh_timeout) {\n",
       "      setTimeout(run_inline_js, 100);\n",
       "    } else if (!root._bokeh_failed_load) {\n",
       "      console.log(\"Bokeh: BokehJS failed to load within specified timeout.\");\n",
       "      root._bokeh_failed_load = true;\n",
       "    } else if (force !== true) {\n",
       "      var cell = $(document.getElementById(\"1001\")).parents('.cell').data().cell;\n",
       "      cell.output_area.append_execute_result(NB_LOAD_WARNING)\n",
       "    }\n",
       "\n",
       "  }\n",
       "\n",
       "  if (root._bokeh_is_loading === 0) {\n",
       "    console.debug(\"Bokeh: BokehJS loaded, going straight to plotting\");\n",
       "    run_inline_js();\n",
       "  } else {\n",
       "    load_libs(css_urls, js_urls, function() {\n",
       "      console.debug(\"Bokeh: BokehJS plotting callback run at\", now());\n",
       "      run_inline_js();\n",
       "    });\n",
       "  }\n",
       "}(window));"
      ],
      "application/vnd.bokehjs_load.v0+json": "\n(function(root) {\n  function now() {\n    return new Date();\n  }\n\n  var force = true;\n\n  if (typeof root._bokeh_onload_callbacks === \"undefined\" || force === true) {\n    root._bokeh_onload_callbacks = [];\n    root._bokeh_is_loading = undefined;\n  }\n\n  \n\n  \n  if (typeof (root._bokeh_timeout) === \"undefined\" || force === true) {\n    root._bokeh_timeout = Date.now() + 5000;\n    root._bokeh_failed_load = false;\n  }\n\n  var NB_LOAD_WARNING = {'data': {'text/html':\n     \"<div style='background-color: #fdd'>\\n\"+\n     \"<p>\\n\"+\n     \"BokehJS does not appear to have successfully loaded. If loading BokehJS from CDN, this \\n\"+\n     \"may be due to a slow or bad network connection. Possible fixes:\\n\"+\n     \"</p>\\n\"+\n     \"<ul>\\n\"+\n     \"<li>re-rerun `output_notebook()` to attempt to load from CDN again, or</li>\\n\"+\n     \"<li>use INLINE resources instead, as so:</li>\\n\"+\n     \"</ul>\\n\"+\n     \"<code>\\n\"+\n     \"from bokeh.resources import INLINE\\n\"+\n     \"output_notebook(resources=INLINE)\\n\"+\n     \"</code>\\n\"+\n     \"</div>\"}};\n\n  function display_loaded() {\n    var el = document.getElementById(\"1001\");\n    if (el != null) {\n      el.textContent = \"BokehJS is loading...\";\n    }\n    if (root.Bokeh !== undefined) {\n      if (el != null) {\n        el.textContent = \"BokehJS \" + root.Bokeh.version + \" successfully loaded.\";\n      }\n    } else if (Date.now() < root._bokeh_timeout) {\n      setTimeout(display_loaded, 100)\n    }\n  }\n\n\n  function run_callbacks() {\n    try {\n      root._bokeh_onload_callbacks.forEach(function(callback) {\n        if (callback != null)\n          callback();\n      });\n    } finally {\n      delete root._bokeh_onload_callbacks\n    }\n    console.debug(\"Bokeh: all callbacks have finished\");\n  }\n\n  function load_libs(css_urls, js_urls, callback) {\n    if (css_urls == null) css_urls = [];\n    if (js_urls == null) js_urls = [];\n\n    root._bokeh_onload_callbacks.push(callback);\n    if (root._bokeh_is_loading > 0) {\n      console.debug(\"Bokeh: BokehJS is being loaded, scheduling callback at\", now());\n      return null;\n    }\n    if (js_urls == null || js_urls.length === 0) {\n      run_callbacks();\n      return null;\n    }\n    console.debug(\"Bokeh: BokehJS not loaded, scheduling load and callback at\", now());\n    root._bokeh_is_loading = css_urls.length + js_urls.length;\n\n    function on_load() {\n      root._bokeh_is_loading--;\n      if (root._bokeh_is_loading === 0) {\n        console.debug(\"Bokeh: all BokehJS libraries/stylesheets loaded\");\n        run_callbacks()\n      }\n    }\n\n    function on_error() {\n      console.error(\"failed to load \" + url);\n    }\n\n    for (var i = 0; i < css_urls.length; i++) {\n      var url = css_urls[i];\n      const element = document.createElement(\"link\");\n      element.onload = on_load;\n      element.onerror = on_error;\n      element.rel = \"stylesheet\";\n      element.type = \"text/css\";\n      element.href = url;\n      console.debug(\"Bokeh: injecting link tag for BokehJS stylesheet: \", url);\n      document.body.appendChild(element);\n    }\n\n    for (var i = 0; i < js_urls.length; i++) {\n      var url = js_urls[i];\n      var element = document.createElement('script');\n      element.onload = on_load;\n      element.onerror = on_error;\n      element.async = false;\n      element.src = url;\n      console.debug(\"Bokeh: injecting script tag for BokehJS library: \", url);\n      document.head.appendChild(element);\n    }\n  };var element = document.getElementById(\"1001\");\n  if (element == null) {\n    console.error(\"Bokeh: ERROR: autoload.js configured with elementid '1001' but no matching script tag was found. \")\n    return false;\n  }\n\n  function inject_raw_css(css) {\n    const element = document.createElement(\"style\");\n    element.appendChild(document.createTextNode(css));\n    document.body.appendChild(element);\n  }\n\n  var js_urls = [\"https://cdn.pydata.org/bokeh/release/bokeh-1.2.0.min.js\", \"https://cdn.pydata.org/bokeh/release/bokeh-widgets-1.2.0.min.js\", \"https://cdn.pydata.org/bokeh/release/bokeh-tables-1.2.0.min.js\", \"https://cdn.pydata.org/bokeh/release/bokeh-gl-1.2.0.min.js\"];\n  var css_urls = [\"https://cdn.pydata.org/bokeh/release/bokeh-1.2.0.min.css\", \"https://cdn.pydata.org/bokeh/release/bokeh-widgets-1.2.0.min.css\", \"https://cdn.pydata.org/bokeh/release/bokeh-tables-1.2.0.min.css\"];\n\n  var inline_js = [\n    function(Bokeh) {\n      Bokeh.set_log_level(\"info\");\n    },\n    \n    function(Bokeh) {\n      \n    },\n    function(Bokeh) {} // ensure no trailing comma for IE\n  ];\n\n  function run_inline_js() {\n    \n    if ((root.Bokeh !== undefined) || (force === true)) {\n      for (var i = 0; i < inline_js.length; i++) {\n        inline_js[i].call(root, root.Bokeh);\n      }if (force === true) {\n        display_loaded();\n      }} else if (Date.now() < root._bokeh_timeout) {\n      setTimeout(run_inline_js, 100);\n    } else if (!root._bokeh_failed_load) {\n      console.log(\"Bokeh: BokehJS failed to load within specified timeout.\");\n      root._bokeh_failed_load = true;\n    } else if (force !== true) {\n      var cell = $(document.getElementById(\"1001\")).parents('.cell').data().cell;\n      cell.output_area.append_execute_result(NB_LOAD_WARNING)\n    }\n\n  }\n\n  if (root._bokeh_is_loading === 0) {\n    console.debug(\"Bokeh: BokehJS loaded, going straight to plotting\");\n    run_inline_js();\n  } else {\n    load_libs(css_urls, js_urls, function() {\n      console.debug(\"Bokeh: BokehJS plotting callback run at\", now());\n      run_inline_js();\n    });\n  }\n}(window));"
     },
     "metadata": {},
     "output_type": "display_data"
    }
   ],
   "source": [
    "import pandas as pd\n",
    "import matplotlib as mpl\n",
    "import matplotlib.pyplot as plt\n",
    "import geopandas as gpd\n",
    "import math\n",
    "import numpy as np\n",
    "import json\n",
    "import seaborn as sns\n",
    "import folium\n",
    "import os\n",
    "from shapely.geometry import Point, Polygon\n",
    "from numpy import linspace\n",
    "from bokeh import events\n",
    "from bokeh.io import output_file, show, output_notebook\n",
    "from bokeh.models import ColumnDataSource, FixedTicker, PrintfTickFormatter, CustomJS, Div, TapTool\n",
    "from bokeh.plotting import figure\n",
    "import branca.colormap as cm\n",
    "import datetime\n",
    "\n",
    "# Output Bokeh charts to notebook, rather than opening a browser window\n",
    "output_notebook()\n",
    "\n",
    "map_centre = [18.64, -70.09]\n",
    "map_zoom = 8"
   ]
  },
  {
   "cell_type": "markdown",
   "metadata": {},
   "source": [
    "## View the model files"
   ]
  },
  {
   "cell_type": "markdown",
   "metadata": {},
   "source": [
    "### Area peril dictionary"
   ]
  },
  {
   "cell_type": "code",
   "execution_count": null,
   "metadata": {},
   "outputs": [],
   "source": [
    "area_peril_dictionary = pd.read_csv(\"./gem/keys_data/GMO/areaperil_dict_pga_only.csv\")\n",
    "area_peril_dictionary.columns = [x.lower() for x in area_peril_dictionary.columns]\n",
    "area_peril_dictionary.head()"
   ]
  },
  {
   "cell_type": "code",
   "execution_count": null,
   "metadata": {},
   "outputs": [],
   "source": [
    "m = folium.Map(tiles='cartodbpositron', location=map_centre, zoom_start=map_zoom)\n",
    "for i, row in area_peril_dictionary.iterrows():\n",
    "    folium.CircleMarker(\n",
    "        location=[row.lat1, row.lon1], radius=1).add_to(m)\n",
    "m"
   ]
  },
  {
   "cell_type": "markdown",
   "metadata": {},
   "source": [
    "### Intensity bin dictionary"
   ]
  },
  {
   "cell_type": "code",
   "execution_count": null,
   "metadata": {
    "scrolled": true
   },
   "outputs": [],
   "source": [
    "intensity_bin_dictionary = pd.read_csv(\"./gem/model_data/GMO/intensity_bin_dict.csv\")\n",
    "area_peril_dictionary.columns = [x.lower() for x in area_peril_dictionary.columns]\n",
    "intensity_bin_dictionary.head()"
   ]
  },
  {
   "cell_type": "markdown",
   "metadata": {},
   "source": [
    "### Hazard"
   ]
  },
  {
   "cell_type": "code",
   "execution_count": null,
   "metadata": {},
   "outputs": [],
   "source": [
    "footprints = pd.read_csv(\"./gem/model_data/GMO/footprint.csv\")\n",
    "footprints.head()"
   ]
  },
  {
   "cell_type": "code",
   "execution_count": null,
   "metadata": {},
   "outputs": [],
   "source": [
    "event_id = 2401\n",
    "area_peril_id = 15939"
   ]
  },
  {
   "cell_type": "code",
   "execution_count": null,
   "metadata": {},
   "outputs": [],
   "source": [
    "footprints_with_hazard = footprints.merge(\n",
    "    area_peril_dictionary, how='inner', \n",
    "    left_on='areaperil_id', right_on='area_peril_id').merge(\n",
    "    intensity_bin_dictionary, how=\"inner\",\n",
    "    left_on=\"intensity_bin_index\", right_on=\"bin_index\")\n",
    "footprint_with_hazard = footprints_with_hazard[footprints_with_hazard.event_id == event_id]\n",
    "footprint_with_hazard = footprint_with_hazard[['areaperil_id', 'lat1', 'lon1', 'prob', 'intensity_bin_index','interpolation']] \n",
    "footprint_with_hazard = footprint_with_hazard.sort_values(['areaperil_id'])\n",
    "footprint_with_hazard = footprint_with_hazard.rename(index=str, columns={\"interpolation\": \"hazard\"})\n",
    "footprint_with_hazard.head()"
   ]
  },
  {
   "cell_type": "code",
   "execution_count": null,
   "metadata": {},
   "outputs": [],
   "source": [
    "footprint_with_hazard_for_cell = footprint_with_hazard[footprint_with_hazard.areaperil_id == area_peril_id] \n",
    "footprint_with_hazard_for_cell = intensity_bin_dictionary.merge(\n",
    "    footprint_with_hazard_for_cell, how=\"inner\",\n",
    "    left_on=\"bin_index\", right_on=\"intensity_bin_index\", suffixes=('', '_dict'))\n",
    "\n",
    "footprint_with_hazard_for_cell.fillna(0)\n",
    "footprint_with_hazard_for_cell = footprint_with_hazard_for_cell.sort_values(\"intensity_bin_index\")\n",
    "footprint_with_hazard_for_cell = footprint_with_hazard_for_cell[['prob', 'intensity_bin_index','interpolation']]\n",
    "footprint_with_hazard_for_cell = footprint_with_hazard_for_cell.rename(index=str, columns={\"interpolation\": \"hazard\"})\n",
    "footprint_with_hazard_for_cell.head()"
   ]
  },
  {
   "cell_type": "code",
   "execution_count": null,
   "metadata": {
    "scrolled": true
   },
   "outputs": [],
   "source": [
    "footprint_with_hazard['weighted_hazard'] = footprint_with_hazard['hazard'] * footprint_with_hazard['prob'] \n",
    "footprint_with_mean_hazard = pd.DataFrame({'mean_hazard' : footprint_with_hazard.groupby( ['areaperil_id', 'lat1', 'lon1'] )['weighted_hazard'].sum()}).reset_index()\n",
    "\n",
    "linear = cm.LinearColormap(\n",
    "    ['green', 'yellow', 'red'],\n",
    "    vmin=min(footprint_with_mean_hazard.mean_hazard), \n",
    "    vmax=max(footprint_with_mean_hazard.mean_hazard))\n",
    "m = folium.Map(location=map_centre, zoom_start=map_zoom, tiles='cartodbpositron')\n",
    "for i, row in footprint_with_mean_hazard.iterrows():\n",
    "    c = linear(row.mean_hazard)\n",
    "    folium.CircleMarker(\n",
    "        location=[row.lat1, row.lon1], fill_color=c, radius=5,\n",
    "        weight=0, fill=True, fill_opacity=1.0).add_to(m)\n",
    "linear.caption = 'Hazard'\n",
    "m.add_child(linear)\n",
    "m.fit_bounds(m.get_bounds())\n",
    "m"
   ]
  },
  {
   "cell_type": "code",
   "execution_count": null,
   "metadata": {
    "scrolled": true
   },
   "outputs": [],
   "source": [
    "intensity_range = (0, footprint_with_hazard_for_cell.hazard.max())\n",
    "p = figure(x_range=intensity_range, plot_height=300, y_range=(0, footprint_with_hazard_for_cell.prob.max()), toolbar_location=None)\n",
    "p.vbar(x=footprint_with_hazard_for_cell.hazard, top=footprint_with_hazard_for_cell.prob, width=0.9)\n",
    "p.xaxis.axis_label = 'Hazard'\n",
    "p.yaxis.axis_label = 'Probability'\n",
    "show(p)"
   ]
  },
  {
   "cell_type": "markdown",
   "metadata": {},
   "source": [
    "### Damage bin dictionary"
   ]
  },
  {
   "cell_type": "code",
   "execution_count": null,
   "metadata": {},
   "outputs": [],
   "source": [
    "damage_bin_dictionary = pd.read_csv(\"./gem/model_data/GMO/damage_bin_dict.csv\")\n",
    "damage_bin_dictionary.head()"
   ]
  },
  {
   "cell_type": "markdown",
   "metadata": {},
   "source": [
    "### Vulnerability dictionary"
   ]
  },
  {
   "cell_type": "code",
   "execution_count": null,
   "metadata": {
    "scrolled": true
   },
   "outputs": [],
   "source": [
    "vulnerability_dict = pd.read_csv(\"./gem/keys_data/GMO/vulnerability_dict_pga_only.csv\")\n",
    "vulnerability_dict.head()"
   ]
  },
  {
   "cell_type": "markdown",
   "metadata": {},
   "source": [
    "### Vulnerability"
   ]
  },
  {
   "cell_type": "code",
   "execution_count": null,
   "metadata": {},
   "outputs": [],
   "source": [
    "vulnerabilities = pd.read_csv(\"./gem/model_data/GMO/vulnerability.csv\")\n",
    "vulnerabilities"
   ]
  },
  {
   "cell_type": "markdown",
   "metadata": {},
   "source": [
    "### Occurrence file"
   ]
  },
  {
   "cell_type": "code",
   "execution_count": null,
   "metadata": {},
   "outputs": [],
   "source": [
    "occurrences = pd.read_csv(\"gem/model_data/GMO/occurrence.csv\")\n",
    "occurrences.head()"
   ]
  },
  {
   "cell_type": "markdown",
   "metadata": {},
   "source": [
    "## Model execution"
   ]
  },
  {
   "cell_type": "markdown",
   "metadata": {},
   "source": [
    "To run the model we need some test exxposure data. Lets have a look at an example Location and Account file. "
   ]
  },
  {
   "cell_type": "code",
   "execution_count": null,
   "metadata": {},
   "outputs": [],
   "source": [
    "test_locations = pd.read_csv('./gem/tests/data/dom-rep-146-oed-location.csv')\n",
    "test_locations.head()"
   ]
  },
  {
   "cell_type": "markdown",
   "metadata": {},
   "source": [
    "To run the model, we also need to define some analysis settings. Lets have a look at an example settings file."
   ]
  },
  {
   "cell_type": "code",
   "execution_count": null,
   "metadata": {},
   "outputs": [],
   "source": [
    "with open('gem/tests/analysis_settings.json', 'r') as myfile:\n",
    "    analysis_settings=json.loads(myfile.read().replace('\\n', ''))\n",
    "print(json.dumps(analysis_settings, indent=True))"
   ]
  },
  {
   "cell_type": "markdown",
   "metadata": {},
   "source": [
    "## Generate model files"
   ]
  },
  {
   "cell_type": "code",
   "execution_count": null,
   "metadata": {},
   "outputs": [],
   "source": [
    "# Compile the spatial index files used in the keys lookup\n",
    "! oasislmf model generate-peril-areas-rtree-file-index -c gem/keys_data/GMO/lookup.json -d gem/keys_data/GMO -f gem/keys_data/GMO/area-peril"
   ]
  },
  {
   "cell_type": "code",
   "execution_count": null,
   "metadata": {},
   "outputs": [],
   "source": [
    "# Convert all the model files into Oasis binary formats\n",
    "! damagebintobin < gem/model_data/GMO/damage_bin_dict.csv > gem/model_data/GMO/damage_bin_dict.bin \n",
    "! evetobin < gem/model_data/GMO/events.csv > gem/model_data/GMO/events.bin\n",
    "! vulnerabilitytobin -d 166 < gem/model_data/GMO/vulnerability.csv > gem/model_data/GMO/vulnerability.bin\n",
    "! footprinttobin -i 313 < gem/model_data/GMO/footprint.csv\n",
    "! occurrencetobin -P 5000 -D < gem/model_data/GMO/occurrence.csv > gem/model_data/GMO/occurrence.bin\n",
    "! returnperiodtobin < gem/model_data/GMO/returnperiods.csv  > gem/model_data/GMO/returnperiods.bin\n",
    "! cp footprint.bin gem/model_data/GMO/\n",
    "! cp footprint.idx gem/model_data/GMO/"
   ]
  },
  {
   "cell_type": "markdown",
   "metadata": {},
   "source": [
    "## Run the model using the Oasis MDK"
   ]
  },
  {
   "cell_type": "code",
   "execution_count": 1,
   "metadata": {},
   "outputs": [
    {
     "name": "stdout",
     "output_type": "stream",
     "text": [
      "\n",
      "Processing arguments for model run\n",
      "  0%|                                                     | 0/2 [00:00<?, ?it/s]\n",
      "Processing arguments\n",
      "\n",
      "Generating Oasis files (GUL=True, IL=True, RIL=False)\n",
      "STARTED: oasislmf.manager.__init__\n",
      "COMPLETED: oasislmf.manager.__init__ in 0.0s\n",
      "STARTED: oasislmf.manager.generate_oasis_files\n",
      "STARTED: oasislmf.model_preparation.lookup.__init__\n",
      "STARTED: oasislmf.model_preparation.lookup.__init__\n",
      "COMPLETED: oasislmf.model_preparation.lookup.__init__ in 0.0s\n",
      "STARTED: oasislmf.model_preparation.lookup.__init__\n",
      "STARTED: oasislmf.model_preparation.lookup.__init__\n",
      "COMPLETED: oasislmf.model_preparation.lookup.__init__ in 0.0s\n",
      "COMPLETED: oasislmf.model_preparation.lookup.__init__ in 0.0s\n",
      "STARTED: oasislmf.model_preparation.lookup.__init__\n",
      "STARTED: oasislmf.model_preparation.lookup.__init__\n",
      "COMPLETED: oasislmf.model_preparation.lookup.__init__ in 0.0s\n",
      "STARTED: oasislmf.model_preparation.lookup.get_vulnerabilities\n",
      "COMPLETED: oasislmf.model_preparation.lookup.get_vulnerabilities in 0.01s\n",
      "COMPLETED: oasislmf.model_preparation.lookup.__init__ in 0.01s\n",
      "COMPLETED: oasislmf.model_preparation.lookup.__init__ in 0.01s\n",
      "STARTED: oasislmf.model_preparation.lookup.bulk_lookup\n",
      "COMPLETED: oasislmf.model_preparation.lookup.bulk_lookup in 0.0s\n",
      "STARTED: oasislmf.model_preparation.gul_inputs.get_gul_input_items\n",
      "COMPLETED: oasislmf.model_preparation.gul_inputs.get_gul_input_items in 0.11s\n",
      "STARTED: oasislmf.model_preparation.summaries.write_exposure_summary\n",
      "STARTED: oasislmf.model_preparation.gul_inputs.get_gul_input_items\n",
      "STARTED: oasislmf.model_preparation.summaries.get_exposure_summary\n",
      "COMPLETED: oasislmf.model_preparation.summaries.get_exposure_summary in 0.0s\n",
      "STARTED: oasislmf.model_preparation.summaries.get_exposure_summary\n",
      "COMPLETED: oasislmf.model_preparation.summaries.get_exposure_summary in 0.0s\n",
      "STARTED: oasislmf.model_preparation.summaries.get_exposure_summary\n",
      "COMPLETED: oasislmf.model_preparation.summaries.get_exposure_summary in 0.01s\n",
      "COMPLETED: oasislmf.model_preparation.summaries.write_exposure_summary in 0.19s\n",
      "STARTED: oasislmf.model_preparation.gul_inputs.write_gul_input_files\n",
      "STARTED: oasislmf.model_preparation.gul_inputs.write_items_file\n",
      "STARTED: oasislmf.model_preparation.gul_inputs.write_coverages_file\n",
      "COMPLETED: oasislmf.model_preparation.gul_inputs.write_coverages_file in 0.0s\n",
      "COMPLETED: oasislmf.model_preparation.gul_inputs.write_items_file in 0.04s\n",
      "COMPLETED: oasislmf.model_preparation.gul_inputs.write_gul_input_files in 0.08s\n",
      "STARTED: oasislmf.model_preparation.summaries.get_summary_mapping\n",
      "COMPLETED: oasislmf.model_preparation.summaries.get_summary_mapping in 0.0s\n",
      "STARTED: oasislmf.model_preparation.summaries.write_mapping_file\n",
      "COMPLETED: oasislmf.model_preparation.summaries.write_mapping_file in 0.0s\n",
      "STARTED: oasislmf.model_preparation.il_inputs.get_il_input_items\n",
      "COMPLETED: oasislmf.model_preparation.il_inputs.get_il_input_items in 0.14s\n",
      "STARTED: oasislmf.model_preparation.il_inputs.write_il_input_files\n",
      "STARTED: oasislmf.model_preparation.il_inputs.write_fm_policytc_file\n",
      "STARTED: oasislmf.model_preparation.il_inputs.write_fm_profile_file\n",
      "STARTED: oasislmf.model_preparation.il_inputs.write_fm_programme_file\n",
      "STARTED: oasislmf.model_preparation.il_inputs.write_fm_xref_file\n",
      "COMPLETED: oasislmf.model_preparation.il_inputs.write_fm_policytc_file in 0.11s\n",
      "COMPLETED: oasislmf.model_preparation.il_inputs.write_fm_profile_file in 0.12s\n",
      "COMPLETED: oasislmf.model_preparation.il_inputs.write_fm_xref_file in 0.02s\n",
      "COMPLETED: oasislmf.model_preparation.il_inputs.write_fm_programme_file in 0.07s\n",
      "COMPLETED: oasislmf.model_preparation.il_inputs.write_il_input_files in 0.23s\n",
      "STARTED: oasislmf.model_preparation.summaries.get_summary_mapping\n",
      "COMPLETED: oasislmf.model_preparation.summaries.get_summary_mapping in 0.01s\n",
      "STARTED: oasislmf.model_preparation.summaries.write_mapping_file\n",
      "COMPLETED: oasislmf.model_preparation.summaries.write_mapping_file in 0.0s\n",
      "COMPLETED: oasislmf.manager.generate_oasis_files in 1.15s\n",
      "\n",
      "Oasis files generated: {'items': '/tmp/analysis_test_mdk/input/items.csv', 'coverages': '/tmp/analysis_test_mdk/input/coverages.csv', 'fm_policytc': '/tmp/analysis_test_mdk/input/fm_policytc.csv', 'fm_profile': '/tmp/analysis_test_mdk/input/fm_profile.csv', 'fm_programme': '/tmp/analysis_test_mdk/input/fm_programme.csv', 'fm_xref': '/tmp/analysis_test_mdk/input/fm_xref.csv'}\n",
      " 50%|██████████████████████▌                      | 1/2 [00:01<00:01,  1.15s/it]\n",
      "Processing arguments for generating model losses\n",
      "\n",
      "Generating losses (GUL=True, IL=True, RIL=False)\n",
      "STARTED: oasislmf.manager.__init__\n",
      "COMPLETED: oasislmf.manager.__init__ in 0.0s\n",
      "STARTED: oasislmf.manager.generate_model_losses\n",
      "STARTED: oasislmf.model_execution.bin.prepare_run_directory\n",
      "COMPLETED: oasislmf.model_execution.bin.prepare_run_directory in 0.0s\n",
      "STARTED: oasislmf.model_preparation.summaries.generate_summaryxref_files\n",
      "STARTED: oasislmf.model_preparation.summaries.get_summary_xref_df\n",
      "COMPLETED: oasislmf.model_preparation.summaries.get_summary_xref_df in 0.0s\n",
      "STARTED: oasislmf.model_preparation.summaries.write_xref_file\n",
      "COMPLETED: oasislmf.model_preparation.summaries.write_xref_file in 0.0s\n",
      "STARTED: oasislmf.model_preparation.summaries.get_summary_xref_df\n",
      "COMPLETED: oasislmf.model_preparation.summaries.get_summary_xref_df in 0.0s\n",
      "STARTED: oasislmf.model_preparation.summaries.write_xref_file\n",
      "COMPLETED: oasislmf.model_preparation.summaries.write_xref_file in 0.0s\n",
      "COMPLETED: oasislmf.model_preparation.summaries.generate_summaryxref_files in 0.09s\n",
      "STARTED: oasislmf.model_execution.bin.csv_to_bin\n",
      "COMPLETED: oasislmf.model_execution.bin.csv_to_bin in 0.03s\n",
      "STARTED: oasislmf.model_execution.bin.prepare_run_inputs\n",
      "COMPLETED: oasislmf.model_execution.bin.prepare_run_inputs in 0.0s\n",
      "<module 'oasislmf.model_execution.runner' from '/home/pinkerton/.virtualenvs/Workshop2019/lib/python3.6/site-packages/oasislmf/model_execution/runner.py'>\n",
      "STARTED: oasislmf.model_execution.runner.run\n",
      "\n",
      "COMPLETED: oasislmf.model_execution.runner.run in 2.17s\n",
      "COMPLETED: oasislmf.manager.generate_model_losses in 2.29s\n",
      "\n",
      "Losses generated in /tmp/analysis_test_mdk\n",
      "100%|█████████████████████████████████████████████| 2/2 [00:03<00:00,  1.49s/it]\n",
      "\n",
      "Model run completed successfully in /tmp/analysis_test_mdk\n"
     ]
    }
   ],
   "source": [
    "! rm -rf /tmp/analysis_test\n",
    "! oasislmf model run -C gem/oasislmf.json -r /tmp/analysis_test_mdk"
   ]
  },
  {
   "cell_type": "code",
   "execution_count": 4,
   "metadata": {},
   "outputs": [
    {
     "data": {
      "text/html": [
       "\n",
       "\n",
       "\n",
       "\n",
       "\n",
       "\n",
       "  <div class=\"bk-root\" id=\"07fa84ab-f318-42d9-b590-cd34bb05e7fd\" data-root-id=\"1004\"></div>\n"
      ]
     },
     "metadata": {},
     "output_type": "display_data"
    },
    {
     "data": {
      "application/javascript": [
       "(function(root) {\n",
       "  function embed_document(root) {\n",
       "    \n",
       "  var docs_json = {\"8b794caf-dd99-4b87-a73c-e0da8b1a673f\":{\"roots\":{\"references\":[{\"attributes\":{\"below\":[{\"id\":\"1014\",\"type\":\"CategoricalAxis\"}],\"center\":[{\"id\":\"1017\",\"type\":\"Grid\"},{\"id\":\"1022\",\"type\":\"Grid\"}],\"left\":[{\"id\":\"1018\",\"type\":\"LinearAxis\"}],\"plot_height\":350,\"renderers\":[{\"id\":\"1028\",\"type\":\"GlyphRenderer\"}],\"title\":{\"id\":\"1005\",\"type\":\"Title\"},\"toolbar\":{\"id\":\"1023\",\"type\":\"Toolbar\"},\"toolbar_location\":null,\"x_range\":{\"id\":\"1003\",\"type\":\"FactorRange\"},\"x_scale\":{\"id\":\"1010\",\"type\":\"CategoricalScale\"},\"y_range\":{\"id\":\"1008\",\"type\":\"DataRange1d\"},\"y_scale\":{\"id\":\"1012\",\"type\":\"LinearScale\"}},\"id\":\"1004\",\"subtype\":\"Figure\",\"type\":\"Plot\"},{\"attributes\":{\"callback\":null,\"start\":0},\"id\":\"1008\",\"type\":\"DataRange1d\"},{\"attributes\":{\"callback\":null,\"data\":{\"counts\":[0.0,0.0,98.655182,98.73722099999999,4724.683105,4836.583984000001,317253.75,320233.46875,1465045.625,1469763.875,4038886.0,4077714.75,7079180.0,7272573.0,11199778.0,11219602.0,11404478.0,11467205.0],\"x\":[[\"2.0\",\"OEP\"],[\"2.0\",\"AEP\"],[\"5.0\",\"OEP\"],[\"5.0\",\"AEP\"],[\"10.0\",\"OEP\"],[\"10.0\",\"AEP\"],[\"30.0\",\"OEP\"],[\"30.0\",\"AEP\"],[\"60.0\",\"OEP\"],[\"60.0\",\"AEP\"],[\"120.0\",\"OEP\"],[\"120.0\",\"AEP\"],[\"240.0\",\"OEP\"],[\"240.0\",\"AEP\"],[\"480.0\",\"OEP\"],[\"480.0\",\"AEP\"],[\"500.0\",\"OEP\"],[\"500.0\",\"AEP\"]]},\"selected\":{\"id\":\"1035\",\"type\":\"Selection\"},\"selection_policy\":{\"id\":\"1036\",\"type\":\"UnionRenderers\"}},\"id\":\"1002\",\"type\":\"ColumnDataSource\"},{\"attributes\":{},\"id\":\"1010\",\"type\":\"CategoricalScale\"},{\"attributes\":{},\"id\":\"1032\",\"type\":\"CategoricalTickFormatter\"},{\"attributes\":{},\"id\":\"1012\",\"type\":\"LinearScale\"},{\"attributes\":{\"formatter\":{\"id\":\"1032\",\"type\":\"CategoricalTickFormatter\"},\"major_label_orientation\":1,\"ticker\":{\"id\":\"1015\",\"type\":\"CategoricalTicker\"}},\"id\":\"1014\",\"type\":\"CategoricalAxis\"},{\"attributes\":{},\"id\":\"1015\",\"type\":\"CategoricalTicker\"},{\"attributes\":{\"grid_line_color\":null,\"ticker\":{\"id\":\"1015\",\"type\":\"CategoricalTicker\"}},\"id\":\"1017\",\"type\":\"Grid\"},{\"attributes\":{\"formatter\":{\"id\":\"1034\",\"type\":\"BasicTickFormatter\"},\"ticker\":{\"id\":\"1019\",\"type\":\"BasicTicker\"}},\"id\":\"1018\",\"type\":\"LinearAxis\"},{\"attributes\":{},\"id\":\"1019\",\"type\":\"BasicTicker\"},{\"attributes\":{\"dimension\":1,\"ticker\":{\"id\":\"1019\",\"type\":\"BasicTicker\"}},\"id\":\"1022\",\"type\":\"Grid\"},{\"attributes\":{\"fill_color\":{\"field\":\"x\",\"transform\":{\"id\":\"1024\",\"type\":\"CategoricalColorMapper\"}},\"line_color\":{\"value\":\"white\"},\"top\":{\"field\":\"counts\"},\"width\":{\"value\":0.9},\"x\":{\"field\":\"x\"}},\"id\":\"1026\",\"type\":\"VBar\"},{\"attributes\":{\"active_drag\":\"auto\",\"active_inspect\":\"auto\",\"active_multi\":null,\"active_scroll\":\"auto\",\"active_tap\":\"auto\"},\"id\":\"1023\",\"type\":\"Toolbar\"},{\"attributes\":{\"fill_alpha\":{\"value\":0.1},\"fill_color\":{\"value\":\"#1f77b4\"},\"line_alpha\":{\"value\":0.1},\"line_color\":{\"value\":\"#1f77b4\"},\"top\":{\"field\":\"counts\"},\"width\":{\"value\":0.9},\"x\":{\"field\":\"x\"}},\"id\":\"1027\",\"type\":\"VBar\"},{\"attributes\":{\"data_source\":{\"id\":\"1002\",\"type\":\"ColumnDataSource\"},\"glyph\":{\"id\":\"1026\",\"type\":\"VBar\"},\"hover_glyph\":null,\"muted_glyph\":null,\"nonselection_glyph\":{\"id\":\"1027\",\"type\":\"VBar\"},\"selection_glyph\":null,\"view\":{\"id\":\"1029\",\"type\":\"CDSView\"}},\"id\":\"1028\",\"type\":\"GlyphRenderer\"},{\"attributes\":{\"source\":{\"id\":\"1002\",\"type\":\"ColumnDataSource\"}},\"id\":\"1029\",\"type\":\"CDSView\"},{\"attributes\":{\"end\":2,\"factors\":[\"OEP\",\"AEP\"],\"palette\":[\"#c9d9d3\",\"#718dbf\"],\"start\":1},\"id\":\"1024\",\"type\":\"CategoricalColorMapper\"},{\"attributes\":{\"callback\":null,\"factors\":[[\"2.0\",\"OEP\"],[\"2.0\",\"AEP\"],[\"5.0\",\"OEP\"],[\"5.0\",\"AEP\"],[\"10.0\",\"OEP\"],[\"10.0\",\"AEP\"],[\"30.0\",\"OEP\"],[\"30.0\",\"AEP\"],[\"60.0\",\"OEP\"],[\"60.0\",\"AEP\"],[\"120.0\",\"OEP\"],[\"120.0\",\"AEP\"],[\"240.0\",\"OEP\"],[\"240.0\",\"AEP\"],[\"480.0\",\"OEP\"],[\"480.0\",\"AEP\"],[\"500.0\",\"OEP\"],[\"500.0\",\"AEP\"]],\"range_padding\":0.1},\"id\":\"1003\",\"type\":\"FactorRange\"},{\"attributes\":{},\"id\":\"1034\",\"type\":\"BasicTickFormatter\"},{\"attributes\":{},\"id\":\"1035\",\"type\":\"Selection\"},{\"attributes\":{\"text\":\"EP by return period\"},\"id\":\"1005\",\"type\":\"Title\"},{\"attributes\":{},\"id\":\"1036\",\"type\":\"UnionRenderers\"}],\"root_ids\":[\"1004\"]},\"title\":\"Bokeh Application\",\"version\":\"1.2.0\"}};\n",
       "  var render_items = [{\"docid\":\"8b794caf-dd99-4b87-a73c-e0da8b1a673f\",\"roots\":{\"1004\":\"07fa84ab-f318-42d9-b590-cd34bb05e7fd\"}}];\n",
       "  root.Bokeh.embed.embed_items_notebook(docs_json, render_items);\n",
       "\n",
       "  }\n",
       "  if (root.Bokeh !== undefined) {\n",
       "    embed_document(root);\n",
       "  } else {\n",
       "    var attempts = 0;\n",
       "    var timer = setInterval(function(root) {\n",
       "      if (root.Bokeh !== undefined) {\n",
       "        embed_document(root);\n",
       "        clearInterval(timer);\n",
       "      }\n",
       "      attempts++;\n",
       "      if (attempts > 100) {\n",
       "        console.log(\"Bokeh: ERROR: Unable to run BokehJS code because BokehJS library is missing\");\n",
       "        clearInterval(timer);\n",
       "      }\n",
       "    }, 10, root)\n",
       "  }\n",
       "})(window);"
      ],
      "application/vnd.bokehjs_exec.v0+json": ""
     },
     "metadata": {
      "application/vnd.bokehjs_exec.v0+json": {
       "id": "1004"
      }
     },
     "output_type": "display_data"
    }
   ],
   "source": [
    "from bokeh.io import show, output_file\n",
    "from bokeh.models import ColumnDataSource, FactorRange\n",
    "from bokeh.plotting import figure\n",
    "from bokeh.transform import factor_cmap\n",
    "\n",
    "analysis_directory = \"/tmp/analysis_test_mdk\"\n",
    "gul_aep = pd.read_csv(os.path.join(analysis_directory, \"output\", \"gul_S1_leccalc_full_uncertainty_aep.csv\"))\n",
    "gul_oep = pd.read_csv(os.path.join(analysis_directory, \"output\", \"gul_S1_leccalc_full_uncertainty_oep.csv\"))\n",
    "eps = pd.merge(gul_oep, gul_aep, on=[\"summary_id\", \"return_period\"], suffixes=[\"_oep\", \"_aep\"])\n",
    "eps = eps.sort_values(by=\"return_period\", ascending=True)\n",
    "return_periods = eps.return_period\n",
    "lec_types = ['OEP', 'AEP']\n",
    "data = {'Return periods' : return_periods,\n",
    "       'OEP': eps.loss_oep,\n",
    "       'AEP': eps.loss_aep}\n",
    "palette = [\"#c9d9d3\", \"#718dbf\"]\n",
    "x = [ (str(return_period), lec_type) for return_period in return_periods for lec_type in lec_types ]\n",
    "counts = sum(zip(data['OEP'], data['AEP']), ())\n",
    "source = ColumnDataSource(data=dict(x=x, counts=counts))\n",
    "p = figure(x_range=FactorRange(*x), plot_height=350, title=\"EP by return period\",\n",
    "          toolbar_location=None, tools=\"\")\n",
    "p.vbar(x='x', top='counts', width=0.9, source=source, line_color=\"white\",\n",
    "      fill_color=factor_cmap('x', palette=palette, factors=lec_types, start=1, end=2))\n",
    "p.y_range.start = 0\n",
    "p.x_range.range_padding = 0.1\n",
    "p.xaxis.major_label_orientation = 1\n",
    "p.xgrid.grid_line_color = None\n",
    "show(p)"
   ]
  },
  {
   "cell_type": "code",
   "execution_count": null,
   "metadata": {},
   "outputs": [],
   "source": []
  }
 ],
 "metadata": {
  "kernelspec": {
   "display_name": "OasisWorkshop2018",
   "language": "python",
   "name": "oasisworkshop2018"
  },
  "language_info": {
   "codemirror_mode": {
    "name": "ipython",
    "version": 3
   },
   "file_extension": ".py",
   "mimetype": "text/x-python",
   "name": "python",
   "nbconvert_exporter": "python",
   "pygments_lexer": "ipython3",
   "version": "3.6.8"
  }
 },
 "nbformat": 4,
 "nbformat_minor": 2
}
