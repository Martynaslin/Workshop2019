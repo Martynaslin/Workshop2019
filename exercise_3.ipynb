{
 "cells": [
  {
   "cell_type": "markdown",
   "metadata": {},
   "source": [
    "<img src=\"images/oasis-lmf-colour.png\" alt=\"Oasis LMF logo\" width=\"250\" align=\"left\"/>\n",
    "<br><br><br>\n",
    "\n",
    "# Excercise 3:   Running a model in the Oasis API.\n",
    "\n",
    "The Oasis API exposes the functionality to configure an analysis, execute and retrieve results. All the endpoints are described in the Swagger documentation available vis the Oasis API server. The following sequence diagram illustrates how the general steps in the analysis, encapulated by the API client functions, map to specific API calls.\n",
    "\n",
    "\n",
    "<img src=\"images/oasis_api_sequence.png\" alt=\"Oasis API sequence diagram\" align=\"left\"/>"
   ]
  },
  {
   "cell_type": "code",
   "execution_count": 18,
   "metadata": {},
   "outputs": [],
   "source": [
    "from oasislmf.api.client import APIClient\n",
    "client = APIClient(\n",
    "    api_url=\"http://2.workshop.oasislmfdev.org/\",\n",
    "    api_ver=\"V1\",\n",
    "    username=\"admin\", password=\"password\")"
   ]
  },
  {
   "cell_type": "code",
   "execution_count": 19,
   "metadata": {},
   "outputs": [],
   "source": [
    "# Create a portfolio and associate the exposure files\n",
    "response = client.upload_inputs(\n",
    "    portfolio_name=\"Demo\",\n",
    "    location_fp=\"/tmp/exercise_1_oed/location.csv\",\n",
    "    accounts_fp=\"/tmp/exercise_1_oed/account.csv\")\n",
    "\n",
    "portfolio_id = response[\"id\"]"
   ]
  },
  {
   "cell_type": "code",
   "execution_count": 20,
   "metadata": {},
   "outputs": [
    {
     "data": {
      "text/plain": [
       "[{'id': 1,\n",
       "  'supplier_id': 'GemFoundation',\n",
       "  'model_id': 'GMO',\n",
       "  'version_id': '1',\n",
       "  'created': '19-06-12T18:42:03.487528+0000',\n",
       "  'modified': '19-06-12T18:42:03.488241+0000',\n",
       "  'resource_file': 'http://2.workshop.oasislmfdev.org/V1/models/1/resource_file/'}]"
      ]
     },
     "execution_count": 20,
     "metadata": {},
     "output_type": "execute_result"
    }
   ],
   "source": [
    "# List the aavailable models\n",
    "client.models.search({\"supplier_id__contains\": \"\"}).json()"
   ]
  },
  {
   "cell_type": "code",
   "execution_count": 21,
   "metadata": {},
   "outputs": [
    {
     "data": {
      "text/plain": [
       "[{'id': 1,\n",
       "  'name': 'Demo',\n",
       "  'created': '19-06-12T18:42:33.338922+0000',\n",
       "  'modified': '19-06-12T18:42:33.451007+0000',\n",
       "  'accounts_file': {'uri': 'http://2.workshop.oasislmfdev.org/V1/portfolios/1/accounts_file/',\n",
       "   'name': 'dom-rep-146-oed-account.csv',\n",
       "   'stored': 'c873567c14604a6592d97cc8ec9cc083.csv'},\n",
       "  'location_file': {'uri': 'http://2.workshop.oasislmfdev.org/V1/portfolios/1/location_file/',\n",
       "   'name': 'dom-rep-146-oed-location.csv',\n",
       "   'stored': 'e5057ac282f54c57b74b407f1d521e8a.csv'},\n",
       "  'reinsurance_info_file': None,\n",
       "  'reinsurance_source_file': None},\n",
       " {'id': 2,\n",
       "  'name': 'UI Demo',\n",
       "  'created': '19-06-12T19:01:49.550464+0000',\n",
       "  'modified': '19-06-12T19:01:49.550951+0000',\n",
       "  'accounts_file': None,\n",
       "  'location_file': None,\n",
       "  'reinsurance_info_file': None,\n",
       "  'reinsurance_source_file': None},\n",
       " {'id': 3,\n",
       "  'name': 'Demo',\n",
       "  'created': '19-06-12T19:05:44.184534+0000',\n",
       "  'modified': '19-06-12T19:05:44.185049+0000',\n",
       "  'accounts_file': None,\n",
       "  'location_file': None,\n",
       "  'reinsurance_info_file': None,\n",
       "  'reinsurance_source_file': None},\n",
       " {'id': 4,\n",
       "  'name': 'Demo',\n",
       "  'created': '19-06-12T19:05:57.139457+0000',\n",
       "  'modified': '19-06-12T19:05:57.234525+0000',\n",
       "  'accounts_file': {'uri': 'http://2.workshop.oasislmfdev.org/V1/portfolios/4/accounts_file/',\n",
       "   'name': 'account.csv',\n",
       "   'stored': '7f55704399f643baa753b9794b4853e1.csv'},\n",
       "  'location_file': {'uri': 'http://2.workshop.oasislmfdev.org/V1/portfolios/4/location_file/',\n",
       "   'name': 'location.csv',\n",
       "   'stored': 'd4e7920983c0481cafe6116a8089dba7.csv'},\n",
       "  'reinsurance_info_file': None,\n",
       "  'reinsurance_source_file': None},\n",
       " {'id': 5,\n",
       "  'name': 'Demo',\n",
       "  'created': '19-06-12T19:20:32.529159+0000',\n",
       "  'modified': '19-06-12T19:20:32.633399+0000',\n",
       "  'accounts_file': {'uri': 'http://2.workshop.oasislmfdev.org/V1/portfolios/5/accounts_file/',\n",
       "   'name': 'account.csv',\n",
       "   'stored': '4ba5099ba197425b8dcde9e1b1ad89b6.csv'},\n",
       "  'location_file': {'uri': 'http://2.workshop.oasislmfdev.org/V1/portfolios/5/location_file/',\n",
       "   'name': 'location.csv',\n",
       "   'stored': '2f744ad38c2b41acb742382aafa42736.csv'},\n",
       "  'reinsurance_info_file': None,\n",
       "  'reinsurance_source_file': None}]"
      ]
     },
     "execution_count": 21,
     "metadata": {},
     "output_type": "execute_result"
    }
   ],
   "source": [
    "# List the available portfolios\n",
    "client.portfolios.search({\"name__contains\": \"\"}).json()"
   ]
  },
  {
   "cell_type": "code",
   "execution_count": 22,
   "metadata": {},
   "outputs": [],
   "source": [
    "# Create a new analysis\n",
    "analysis_id = client.create_analysis(\n",
    "    portfolio_id, \n",
    "    model_id=1, \n",
    "    analysis_name=\"Demo\")[\"id\"]"
   ]
  },
  {
   "cell_type": "code",
   "execution_count": 23,
   "metadata": {},
   "outputs": [
    {
     "data": {
      "text/plain": [
       "[{'created': '19-06-12T18:42:40.189452+0000',\n",
       "  'modified': '19-06-12T19:08:12.932389+0000',\n",
       "  'name': 'Demo',\n",
       "  'id': 1,\n",
       "  'portfolio': 1,\n",
       "  'model': 1,\n",
       "  'status': 'RUN_COMPLETED',\n",
       "  'complex_model_data_files': [],\n",
       "  'input_file': 'http://2.workshop.oasislmfdev.org/V1/analyses/1/input_file/',\n",
       "  'settings_file': 'http://2.workshop.oasislmfdev.org/V1/analyses/1/settings_file/',\n",
       "  'input_errors_file': 'http://2.workshop.oasislmfdev.org/V1/analyses/1/input_errors_file/',\n",
       "  'input_generation_traceback_file': None,\n",
       "  'output_file': 'http://2.workshop.oasislmfdev.org/V1/analyses/1/output_file/',\n",
       "  'run_traceback_file': None},\n",
       " {'created': '19-06-12T19:06:02.189807+0000',\n",
       "  'modified': '19-06-12T19:06:04.799146+0000',\n",
       "  'name': 'Demo',\n",
       "  'id': 2,\n",
       "  'portfolio': 4,\n",
       "  'model': 1,\n",
       "  'status': 'INPUTS_GENERATION_ERROR',\n",
       "  'complex_model_data_files': [],\n",
       "  'input_file': None,\n",
       "  'settings_file': None,\n",
       "  'input_errors_file': None,\n",
       "  'input_generation_traceback_file': 'http://2.workshop.oasislmfdev.org/V1/analyses/2/input_generation_traceback_file/',\n",
       "  'output_file': None,\n",
       "  'run_traceback_file': None},\n",
       " {'created': '19-06-12T19:20:36.578988+0000',\n",
       "  'modified': '19-06-12T19:20:36.579349+0000',\n",
       "  'name': 'Demo',\n",
       "  'id': 3,\n",
       "  'portfolio': 5,\n",
       "  'model': 1,\n",
       "  'status': 'NEW',\n",
       "  'complex_model_data_files': [],\n",
       "  'input_file': None,\n",
       "  'settings_file': None,\n",
       "  'input_errors_file': None,\n",
       "  'input_generation_traceback_file': None,\n",
       "  'output_file': None,\n",
       "  'run_traceback_file': None}]"
      ]
     },
     "execution_count": 23,
     "metadata": {},
     "output_type": "execute_result"
    }
   ],
   "source": [
    "# List the analyses named \"Demo\"\n",
    "client.analyses.search({\"name__contains\": \"Demo\"}).json()"
   ]
  },
  {
   "cell_type": "code",
   "execution_count": 24,
   "metadata": {},
   "outputs": [
    {
     "data": {
      "text/plain": [
       "True"
      ]
     },
     "execution_count": 24,
     "metadata": {},
     "output_type": "execute_result"
    }
   ],
   "source": [
    "# Run the analysis inputs generation\n",
    "client.run_generate(analysis_id)\n"
   ]
  },
  {
   "cell_type": "code",
   "execution_count": 25,
   "metadata": {},
   "outputs": [
    {
     "data": {
      "text/plain": [
       "True"
      ]
     },
     "execution_count": 25,
     "metadata": {},
     "output_type": "execute_result"
    }
   ],
   "source": [
    "# Run the analysis\n",
    "client.run_analysis(analysis_id, analysis_settings_fp=\"./gem/tests/analysis_settings.json\")"
   ]
  },
  {
   "cell_type": "code",
   "execution_count": 26,
   "metadata": {},
   "outputs": [],
   "source": [
    "# Download the outputs\n",
    "client.download_output(\n",
    "    analysis_id, \n",
    "    download_path=\"/tmp/analysis_test_api\",\n",
    "    overwrite=True)"
   ]
  },
  {
   "cell_type": "code",
   "execution_count": null,
   "metadata": {},
   "outputs": [],
   "source": []
  },
  {
   "cell_type": "code",
   "execution_count": null,
   "metadata": {},
   "outputs": [],
   "source": []
  }
 ],
 "metadata": {
  "kernelspec": {
   "display_name": "OasisWorkshop2018",
   "language": "python",
   "name": "oasisworkshop2018"
  },
  "language_info": {
   "codemirror_mode": {
    "name": "ipython",
    "version": 3
   },
   "file_extension": ".py",
   "mimetype": "text/x-python",
   "name": "python",
   "nbconvert_exporter": "python",
   "pygments_lexer": "ipython3",
   "version": "3.6.7"
  }
 },
 "nbformat": 4,
 "nbformat_minor": 2
}
