{
 "cells": [
  {
   "cell_type": "code",
   "execution_count": 1,
   "metadata": {},
   "outputs": [],
   "source": [
    "from oasislmf.api.client import APIClient\n",
    "client = APIClient(\n",
    "    api_url=\"http://localhost:8000\",\n",
    "    api_ver=\"V1\",\n",
    "    username=\"admin\", password=\"password\")"
   ]
  },
  {
   "cell_type": "code",
   "execution_count": 4,
   "metadata": {},
   "outputs": [],
   "source": [
    "# Create a portfolio and associate the exposure files\n",
    "response = client.upload_inputs(\n",
    "    portfolio_name=\"Demo\",\n",
    "    location_fp=\"./gem/tests/data/dom-rep-146-oed-location.csv\",\n",
    "    accounts_fp=\"./gem/tests/data/dom-rep-146-oed-account.csv\")\n",
    "\n",
    "portfolio_id = response[\"id\"]"
   ]
  },
  {
   "cell_type": "code",
   "execution_count": 5,
   "metadata": {},
   "outputs": [
    {
     "data": {
      "text/plain": [
       "[{'id': 1,\n",
       "  'supplier_id': 'GemFoundation',\n",
       "  'model_id': 'GMO',\n",
       "  'version_id': '1',\n",
       "  'created': '19-06-04T11:38:03.360003+0000',\n",
       "  'modified': '19-06-04T11:38:03.361431+0000',\n",
       "  'resource_file': 'http://localhost:8000/V1/models/1/resource_file/'}]"
      ]
     },
     "execution_count": 5,
     "metadata": {},
     "output_type": "execute_result"
    }
   ],
   "source": [
    "# List the aavailable models\n",
    "client.models.search({\"supplier_id__contains\": \"\"}).json()"
   ]
  },
  {
   "cell_type": "code",
   "execution_count": 6,
   "metadata": {},
   "outputs": [
    {
     "data": {
      "text/plain": [
       "[{'id': 1,\n",
       "  'name': 'Demo',\n",
       "  'created': '19-06-04T11:41:28.085203+0000',\n",
       "  'modified': '19-06-04T11:41:28.085714+0000',\n",
       "  'accounts_file': None,\n",
       "  'location_file': None,\n",
       "  'reinsurance_info_file': None,\n",
       "  'reinsurance_source_file': None},\n",
       " {'id': 2,\n",
       "  'name': 'Demo',\n",
       "  'created': '19-06-04T11:42:48.212971+0000',\n",
       "  'modified': '19-06-04T11:42:48.291569+0000',\n",
       "  'accounts_file': {'uri': 'http://localhost:8000/V1/portfolios/2/accounts_file/',\n",
       "   'name': 'dom-rep-146-oed-account.csv',\n",
       "   'stored': '8efdf2a624854740a84bd18d78a8b962.csv'},\n",
       "  'location_file': {'uri': 'http://localhost:8000/V1/portfolios/2/location_file/',\n",
       "   'name': 'dom-rep-146-oed-location.csv',\n",
       "   'stored': '698625cd7075422a9a6f4a40820572db.csv'},\n",
       "  'reinsurance_info_file': None,\n",
       "  'reinsurance_source_file': None},\n",
       " {'id': 3,\n",
       "  'name': 'Demo',\n",
       "  'created': '19-06-04T11:42:53.300636+0000',\n",
       "  'modified': '19-06-04T11:42:53.377511+0000',\n",
       "  'accounts_file': {'uri': 'http://localhost:8000/V1/portfolios/3/accounts_file/',\n",
       "   'name': 'dom-rep-146-oed-account.csv',\n",
       "   'stored': '3990cfdf56ae4fc5bff8baba08c812cc.csv'},\n",
       "  'location_file': {'uri': 'http://localhost:8000/V1/portfolios/3/location_file/',\n",
       "   'name': 'dom-rep-146-oed-location.csv',\n",
       "   'stored': 'adcd1884b2f3497d8e0b86a1f0f7fa60.csv'},\n",
       "  'reinsurance_info_file': None,\n",
       "  'reinsurance_source_file': None}]"
      ]
     },
     "execution_count": 6,
     "metadata": {},
     "output_type": "execute_result"
    }
   ],
   "source": [
    "# List the available portfolios\n",
    "client.portfolios.search({\"name__contains\": \"\"}).json()"
   ]
  },
  {
   "cell_type": "code",
   "execution_count": 7,
   "metadata": {},
   "outputs": [],
   "source": [
    "# Create a new analysis\n",
    "analysis_id = client.create_analysis(\n",
    "    portfolio_id, \n",
    "    model_id=1, \n",
    "    analysis_name=\"Demo\")[\"id\"]"
   ]
  },
  {
   "cell_type": "code",
   "execution_count": 8,
   "metadata": {},
   "outputs": [
    {
     "data": {
      "text/plain": [
       "[{'created': '19-06-04T11:43:01.976488+0000',\n",
       "  'modified': '19-06-04T11:43:01.976881+0000',\n",
       "  'name': 'Demo',\n",
       "  'id': 1,\n",
       "  'portfolio': 3,\n",
       "  'model': 1,\n",
       "  'status': 'NEW',\n",
       "  'complex_model_data_files': [],\n",
       "  'input_file': None,\n",
       "  'settings_file': None,\n",
       "  'input_errors_file': None,\n",
       "  'input_generation_traceback_file': None,\n",
       "  'output_file': None,\n",
       "  'run_traceback_file': None}]"
      ]
     },
     "execution_count": 8,
     "metadata": {},
     "output_type": "execute_result"
    }
   ],
   "source": [
    "# List the analyses named \"Demo\"\n",
    "client.analyses.search({\"name__contains\": \"Demo\"}).json()"
   ]
  },
  {
   "cell_type": "code",
   "execution_count": 9,
   "metadata": {},
   "outputs": [
    {
     "data": {
      "text/plain": [
       "True"
      ]
     },
     "execution_count": 9,
     "metadata": {},
     "output_type": "execute_result"
    }
   ],
   "source": [
    "# Run the analysis inputs generation\n",
    "client.run_generate(analysis_id)\n"
   ]
  },
  {
   "cell_type": "code",
   "execution_count": 11,
   "metadata": {},
   "outputs": [
    {
     "data": {
      "text/plain": [
       "True"
      ]
     },
     "execution_count": 11,
     "metadata": {},
     "output_type": "execute_result"
    }
   ],
   "source": [
    "# Run the analysis\n",
    "client.run_analysis(analysis_id, analysis_settings_fp=\"./gem/tests/analysis_settings.json\")"
   ]
  },
  {
   "cell_type": "code",
   "execution_count": 12,
   "metadata": {},
   "outputs": [],
   "source": [
    "# Download the outputs\n",
    "client.download_output(\n",
    "    analysis_id, \n",
    "    download_path=\"/tmp/demo\",\n",
    "    overwrite=True)"
   ]
  }
 ],
 "metadata": {
  "kernelspec": {
   "display_name": "OasisWorkshop2018",
   "language": "python",
   "name": "oasisworkshop2018"
  },
  "language_info": {
   "codemirror_mode": {
    "name": "ipython",
    "version": 3
   },
   "file_extension": ".py",
   "mimetype": "text/x-python",
   "name": "python",
   "nbconvert_exporter": "python",
   "pygments_lexer": "ipython3",
   "version": "3.6.8"
  }
 },
 "nbformat": 4,
 "nbformat_minor": 2
}
